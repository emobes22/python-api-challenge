{
 "cells": [
  {
   "cell_type": "markdown",
   "metadata": {},
   "source": [
    "# WeatherPy\n",
    "----\n",
    "\n",
    "#### Note\n",
    "* Instructions have been included for each segment. You do not have to follow them exactly, but they are included to help you think through the steps."
   ]
  },
  {
   "cell_type": "code",
   "execution_count": 1,
   "metadata": {
    "scrolled": true
   },
   "outputs": [],
   "source": [
    "# Dependencies and Setup\n",
    "import matplotlib.pyplot as plt\n",
    "import pandas as pd\n",
    "import numpy as np\n",
    "import requests\n",
    "import time\n",
    "from scipy.stats import linregress\n",
    "#math will allow you to convert Kelvin Temperature to Farhenheit\n",
    "import math\n",
    "\n",
    "# Import API key\n",
    "from config import api_key\n",
    "#from api_keys import weather_api_key\n",
    "\n",
    "# Incorporated citipy to determine city based on latitude and longitude\n",
    "from citipy import citipy\n",
    "\n",
    "# Output File (CSV)\n",
    "output_data_file = \"output_data/cities.csv\"\n",
    "\n",
    "# Range of latitudes and longitudes\n",
    "lat_range = (-90, 90)\n",
    "lng_range = (-180, 180)"
   ]
  },
  {
   "cell_type": "markdown",
   "metadata": {},
   "source": [
    "## Generate Cities List"
   ]
  },
  {
   "cell_type": "code",
   "execution_count": 2,
   "metadata": {},
   "outputs": [
    {
     "data": {
      "text/plain": [
       "650"
      ]
     },
     "execution_count": 2,
     "metadata": {},
     "output_type": "execute_result"
    }
   ],
   "source": [
    "# List for holding lat_lngs and cities\n",
    "lat_lngs = []\n",
    "cities = []\n",
    "\n",
    "# Create a set of random lat and lng combinations\n",
    "lats = np.random.uniform(lat_range[0], lat_range[1], size=1500)\n",
    "lngs = np.random.uniform(lng_range[0], lng_range[1], size=1500)\n",
    "lat_lngs = zip(lats, lngs)\n",
    "\n",
    "# Identify nearest city for each lat, lng combination\n",
    "for lat_lng in lat_lngs:\n",
    "    city = citipy.nearest_city(lat_lng[0], lat_lng[1]).city_name\n",
    "    \n",
    "    # If the city is unique, then add it to a our cities list\n",
    "    if city not in cities:\n",
    "        cities.append(city)\n",
    "\n",
    "# Print the city count to confirm sufficient count\n",
    "len(cities)"
   ]
  },
  {
   "cell_type": "code",
   "execution_count": 3,
   "metadata": {},
   "outputs": [],
   "source": [
    "#Selects 10 cities out of the 500 to do the analysis for testing\n",
    "cities = cities[0:10]"
   ]
  },
  {
   "cell_type": "markdown",
   "metadata": {},
   "source": [
    "### Perform API Calls\n",
    "* Perform a weather check on each city using a series of successive API calls.\n",
    "* Include a print log of each city as it'sbeing processed (with the city number and city name).\n"
   ]
  },
  {
   "cell_type": "code",
   "execution_count": 4,
   "metadata": {},
   "outputs": [
    {
     "name": "stdout",
     "output_type": "stream",
     "text": [
      "http://api.openweathermap.org/data/2.5/weather?appid=a3c8d7504aed974d2adda6bbc52d7a80&q=London\n"
     ]
    }
   ],
   "source": [
    "#save url\n",
    "url = \"http://api.openweathermap.org/data/2.5/weather?\"\n",
    "\n",
    "#Creates variable city, required to make city url work, By City Name in Open API Weather\n",
    "city = \"London\"\n",
    "#Creates longitude and latitude variables, By Geographic Coordinates, required for query url if you want to look up by coord\n",
    "longitude = \"-122.08\"\n",
    "latitude = \"37.39\"\n",
    "#Creates city id, required for cityid_url, By City ID, if you want to look up by city id\n",
    "cityid = \"2172797\"\n",
    "\n",
    "city_url = url + \"appid=\" + api_key + \"&q=\" + city\n",
    "print(city_url)"
   ]
  },
  {
   "cell_type": "markdown",
   "metadata": {},
   "source": [
    "### Convert Raw Data to DataFrame\n",
    "* Export the city data into a .csv.\n",
    "* Display the DataFrame"
   ]
  },
  {
   "cell_type": "code",
   "execution_count": 5,
   "metadata": {},
   "outputs": [
    {
     "name": "stdout",
     "output_type": "stream",
     "text": [
      "matay\n",
      "{'coord': {'lon': 30.78, 'lat': 28.42}, 'weather': [{'id': 801, 'main': 'Clouds', 'description': 'few clouds', 'icon': '02d'}], 'base': 'stations', 'main': {'temp': 301.45, 'feels_like': 293.55, 'temp_min': 301.45, 'temp_max': 301.45, 'pressure': 1010, 'humidity': 21, 'sea_level': 1010, 'grnd_level': 1006}, 'wind': {'speed': 9.36, 'deg': 319}, 'clouds': {'all': 21}, 'dt': 1587050979, 'sys': {'country': 'EG', 'sunrise': 1587007803, 'sunset': 1587054164}, 'timezone': 7200, 'id': 352628, 'name': 'Maţāy', 'cod': 200}\n",
      "bambous virieux\n",
      "{'coord': {'lon': 57.76, 'lat': -20.34}, 'weather': [{'id': 521, 'main': 'Rain', 'description': 'shower rain', 'icon': '09n'}], 'base': 'stations', 'main': {'temp': 297.1, 'feels_like': 296.21, 'temp_min': 297.04, 'temp_max': 297.15, 'pressure': 1018, 'humidity': 94}, 'visibility': 10000, 'wind': {'speed': 8.7, 'deg': 110}, 'clouds': {'all': 75}, 'dt': 1587050979, 'sys': {'type': 1, 'id': 2061, 'country': 'MU', 'sunrise': 1587003614, 'sunset': 1587045405}, 'timezone': 14400, 'id': 1106677, 'name': 'Bambous Virieux', 'cod': 200}\n",
      "nizhneyansk\n",
      "city not found\n",
      "olinda\n",
      "{'coord': {'lon': -34.86, 'lat': -8.01}, 'weather': [{'id': 803, 'main': 'Clouds', 'description': 'broken clouds', 'icon': '04d'}], 'base': 'stations', 'main': {'temp': 302.15, 'feels_like': 306.22, 'temp_min': 302.15, 'temp_max': 302.15, 'pressure': 1014, 'humidity': 83}, 'visibility': 10000, 'wind': {'speed': 4.1, 'deg': 200}, 'clouds': {'all': 75}, 'dt': 1587050979, 'sys': {'type': 1, 'id': 8426, 'country': 'BR', 'sunrise': 1587025282, 'sunset': 1587068187}, 'timezone': -10800, 'id': 3393536, 'name': 'Olinda', 'cod': 200}\n",
      "taolanaro\n",
      "city not found\n",
      "qaanaaq\n",
      "{'coord': {'lon': -69.36, 'lat': 77.48}, 'weather': [{'id': 803, 'main': 'Clouds', 'description': 'broken clouds', 'icon': '04d'}], 'base': 'stations', 'main': {'temp': 263.76, 'feels_like': 258.82, 'temp_min': 263.76, 'temp_max': 263.76, 'pressure': 992, 'humidity': 82, 'sea_level': 992, 'grnd_level': 992}, 'wind': {'speed': 2.5, 'deg': 66}, 'clouds': {'all': 74}, 'dt': 1587050980, 'sys': {'country': 'GL', 'sunrise': 1587018301, 'sunset': 1587091726}, 'timezone': -10800, 'id': 3831208, 'name': 'Qaanaaq', 'cod': 200}\n",
      "vanimo\n",
      "{'coord': {'lon': 141.3, 'lat': -2.67}, 'weather': [{'id': 800, 'main': 'Clear', 'description': 'clear sky', 'icon': '01n'}], 'base': 'stations', 'main': {'temp': 300.44, 'feels_like': 304.81, 'temp_min': 300.44, 'temp_max': 300.44, 'pressure': 1012, 'humidity': 74, 'sea_level': 1012, 'grnd_level': 1011}, 'wind': {'speed': 0.66, 'deg': 32}, 'clouds': {'all': 5}, 'dt': 1587050980, 'sys': {'country': 'PG', 'sunrise': 1587069165, 'sunset': 1587112533}, 'timezone': 36000, 'id': 2084442, 'name': 'Vanimo', 'cod': 200}\n",
      "port elizabeth\n",
      "{'coord': {'lon': 25.57, 'lat': -33.92}, 'weather': [{'id': 800, 'main': 'Clear', 'description': 'clear sky', 'icon': '01d'}], 'base': 'stations', 'main': {'temp': 292.15, 'feels_like': 289.08, 'temp_min': 292.15, 'temp_max': 292.15, 'pressure': 1017, 'humidity': 68}, 'visibility': 10000, 'wind': {'speed': 5.7, 'deg': 230}, 'clouds': {'all': 4}, 'dt': 1587050980, 'sys': {'type': 1, 'id': 1973, 'country': 'ZA', 'sunrise': 1587012066, 'sunset': 1587052401}, 'timezone': 7200, 'id': 964420, 'name': 'Port Elizabeth', 'cod': 200}\n",
      "tumannyy\n",
      "city not found\n",
      "castro\n",
      "{'coord': {'lon': -50.01, 'lat': -24.79}, 'weather': [{'id': 800, 'main': 'Clear', 'description': 'clear sky', 'icon': '01d'}], 'base': 'stations', 'main': {'temp': 295.02, 'feels_like': 292.36, 'temp_min': 295.02, 'temp_max': 295.02, 'pressure': 1020, 'humidity': 24, 'sea_level': 1020, 'grnd_level': 910}, 'wind': {'speed': 1.04, 'deg': 251}, 'clouds': {'all': 0}, 'dt': 1587050980, 'sys': {'country': 'BR', 'sunrise': 1587029706, 'sunset': 1587071034}, 'timezone': -10800, 'id': 3466704, 'name': 'Castro', 'cod': 200}\n"
     ]
    },
    {
     "data": {
      "text/plain": [
       "[{'City': 'matay',\n",
       "  'Latitude': 28.42,\n",
       "  'Longitude': 30.78,\n",
       "  'Kelvin Temp': 301.45,\n",
       "  'Humidity': 21,\n",
       "  'Clouds': 21,\n",
       "  'Wind': 9.36},\n",
       " {'City': 'bambous virieux',\n",
       "  'Latitude': -20.34,\n",
       "  'Longitude': 57.76,\n",
       "  'Kelvin Temp': 297.15,\n",
       "  'Humidity': 94,\n",
       "  'Clouds': 75,\n",
       "  'Wind': 8.7},\n",
       " {'City': 'olinda',\n",
       "  'Latitude': -8.01,\n",
       "  'Longitude': -34.86,\n",
       "  'Kelvin Temp': 302.15,\n",
       "  'Humidity': 83,\n",
       "  'Clouds': 75,\n",
       "  'Wind': 4.1},\n",
       " {'City': 'qaanaaq',\n",
       "  'Latitude': 77.48,\n",
       "  'Longitude': -69.36,\n",
       "  'Kelvin Temp': 263.76,\n",
       "  'Humidity': 82,\n",
       "  'Clouds': 74,\n",
       "  'Wind': 2.5},\n",
       " {'City': 'vanimo',\n",
       "  'Latitude': -2.67,\n",
       "  'Longitude': 141.3,\n",
       "  'Kelvin Temp': 300.44,\n",
       "  'Humidity': 74,\n",
       "  'Clouds': 5,\n",
       "  'Wind': 0.66},\n",
       " {'City': 'port elizabeth',\n",
       "  'Latitude': -33.92,\n",
       "  'Longitude': 25.57,\n",
       "  'Kelvin Temp': 292.15,\n",
       "  'Humidity': 68,\n",
       "  'Clouds': 4,\n",
       "  'Wind': 5.7},\n",
       " {'City': 'castro',\n",
       "  'Latitude': -24.79,\n",
       "  'Longitude': -50.01,\n",
       "  'Kelvin Temp': 295.02,\n",
       "  'Humidity': 24,\n",
       "  'Clouds': 0,\n",
       "  'Wind': 1.04}]"
      ]
     },
     "execution_count": 5,
     "metadata": {},
     "output_type": "execute_result"
    }
   ],
   "source": [
    "#Create list of dictionaries for df\n",
    "#Collaborated with Tara Boole on for loop\n",
    "dictionarylist=[]\n",
    "for city in cities:\n",
    "    try:\n",
    "        city_url = url + \"appid=\" + api_key + \"&q=\" + city\n",
    "        print(city)\n",
    "#queries the url and converts to json\n",
    "        weather = requests.get(city_url).json()\n",
    "#Retrieves variables in JSON file\n",
    "        latitude = weather[\"coord\"][\"lat\"]\n",
    "        longitude = weather[\"coord\"][\"lon\"]\n",
    "        #Store temperature as Kelvin, code obtained from https://javascriptbootcamp.tech/blog/158860/kelvin-to-fahrenheit-python\n",
    "        kelvin_temp = weather[\"main\"]['temp_max']\n",
    "        #Convert Kelvin temp to Celcius\n",
    "        celcisus_temp = kelvin_temp - 273.15\n",
    "        #Convert Celcius to Farenheit\n",
    "        fahrenheit_temp = celcisus_temp * ( 9 / 5 ) + 32\n",
    "        humidity = weather[\"main\"]['humidity']\n",
    "        clouds = weather[\"clouds\"]['all']\n",
    "        wind = weather[\"wind\"]['speed']\n",
    "        dictionarylist.append({\"City\":city, \"Latitude\":latitude, \"Longitude\":longitude, \"Kelvin Temp\":kelvin_temp, \n",
    "                               #\"Celcius Temp\":celcius_temp, \"Farenheight Temp\":farenheight_temp,\n",
    "                               \"Humidity\":humidity, \"Clouds\":clouds, \"Wind\":wind})\n",
    "        print(weather)\n",
    "    except:\n",
    "        print(\"city not found\")\n",
    "        pass\n",
    "#saves the entire dictionary instead of just the last value in the loop\n",
    "dictionarylist"
   ]
  },
  {
   "cell_type": "code",
   "execution_count": 6,
   "metadata": {},
   "outputs": [
    {
     "data": {
      "text/html": [
       "<div>\n",
       "<style scoped>\n",
       "    .dataframe tbody tr th:only-of-type {\n",
       "        vertical-align: middle;\n",
       "    }\n",
       "\n",
       "    .dataframe tbody tr th {\n",
       "        vertical-align: top;\n",
       "    }\n",
       "\n",
       "    .dataframe thead th {\n",
       "        text-align: right;\n",
       "    }\n",
       "</style>\n",
       "<table border=\"1\" class=\"dataframe\">\n",
       "  <thead>\n",
       "    <tr style=\"text-align: right;\">\n",
       "      <th></th>\n",
       "      <th>City</th>\n",
       "      <th>Latitude</th>\n",
       "      <th>Longitude</th>\n",
       "      <th>Kelvin Temp</th>\n",
       "      <th>Humidity</th>\n",
       "      <th>Clouds</th>\n",
       "      <th>Wind</th>\n",
       "    </tr>\n",
       "  </thead>\n",
       "  <tbody>\n",
       "    <tr>\n",
       "      <th>0</th>\n",
       "      <td>matay</td>\n",
       "      <td>28.42</td>\n",
       "      <td>30.78</td>\n",
       "      <td>301.45</td>\n",
       "      <td>21</td>\n",
       "      <td>21</td>\n",
       "      <td>9.36</td>\n",
       "    </tr>\n",
       "    <tr>\n",
       "      <th>1</th>\n",
       "      <td>bambous virieux</td>\n",
       "      <td>-20.34</td>\n",
       "      <td>57.76</td>\n",
       "      <td>297.15</td>\n",
       "      <td>94</td>\n",
       "      <td>75</td>\n",
       "      <td>8.70</td>\n",
       "    </tr>\n",
       "    <tr>\n",
       "      <th>2</th>\n",
       "      <td>olinda</td>\n",
       "      <td>-8.01</td>\n",
       "      <td>-34.86</td>\n",
       "      <td>302.15</td>\n",
       "      <td>83</td>\n",
       "      <td>75</td>\n",
       "      <td>4.10</td>\n",
       "    </tr>\n",
       "    <tr>\n",
       "      <th>3</th>\n",
       "      <td>qaanaaq</td>\n",
       "      <td>77.48</td>\n",
       "      <td>-69.36</td>\n",
       "      <td>263.76</td>\n",
       "      <td>82</td>\n",
       "      <td>74</td>\n",
       "      <td>2.50</td>\n",
       "    </tr>\n",
       "    <tr>\n",
       "      <th>4</th>\n",
       "      <td>vanimo</td>\n",
       "      <td>-2.67</td>\n",
       "      <td>141.30</td>\n",
       "      <td>300.44</td>\n",
       "      <td>74</td>\n",
       "      <td>5</td>\n",
       "      <td>0.66</td>\n",
       "    </tr>\n",
       "    <tr>\n",
       "      <th>5</th>\n",
       "      <td>port elizabeth</td>\n",
       "      <td>-33.92</td>\n",
       "      <td>25.57</td>\n",
       "      <td>292.15</td>\n",
       "      <td>68</td>\n",
       "      <td>4</td>\n",
       "      <td>5.70</td>\n",
       "    </tr>\n",
       "    <tr>\n",
       "      <th>6</th>\n",
       "      <td>castro</td>\n",
       "      <td>-24.79</td>\n",
       "      <td>-50.01</td>\n",
       "      <td>295.02</td>\n",
       "      <td>24</td>\n",
       "      <td>0</td>\n",
       "      <td>1.04</td>\n",
       "    </tr>\n",
       "  </tbody>\n",
       "</table>\n",
       "</div>"
      ],
      "text/plain": [
       "              City  Latitude  Longitude  Kelvin Temp  Humidity  Clouds  Wind\n",
       "0            matay     28.42      30.78       301.45        21      21  9.36\n",
       "1  bambous virieux    -20.34      57.76       297.15        94      75  8.70\n",
       "2           olinda     -8.01     -34.86       302.15        83      75  4.10\n",
       "3          qaanaaq     77.48     -69.36       263.76        82      74  2.50\n",
       "4           vanimo     -2.67     141.30       300.44        74       5  0.66\n",
       "5   port elizabeth    -33.92      25.57       292.15        68       4  5.70\n",
       "6           castro    -24.79     -50.01       295.02        24       0  1.04"
      ]
     },
     "execution_count": 6,
     "metadata": {},
     "output_type": "execute_result"
    }
   ],
   "source": [
    "#Converts dictionary to dataframe\n",
    "df=pd.DataFrame(dictionarylist)\n",
    "df"
   ]
  },
  {
   "cell_type": "code",
   "execution_count": 7,
   "metadata": {},
   "outputs": [
    {
     "data": {
      "text/html": [
       "<div>\n",
       "<style scoped>\n",
       "    .dataframe tbody tr th:only-of-type {\n",
       "        vertical-align: middle;\n",
       "    }\n",
       "\n",
       "    .dataframe tbody tr th {\n",
       "        vertical-align: top;\n",
       "    }\n",
       "\n",
       "    .dataframe thead th {\n",
       "        text-align: right;\n",
       "    }\n",
       "</style>\n",
       "<table border=\"1\" class=\"dataframe\">\n",
       "  <thead>\n",
       "    <tr style=\"text-align: right;\">\n",
       "      <th></th>\n",
       "      <th>City</th>\n",
       "      <th>Latitude</th>\n",
       "      <th>Longitude</th>\n",
       "      <th>Temp_F</th>\n",
       "      <th>Humidity</th>\n",
       "      <th>Clouds</th>\n",
       "      <th>Wind</th>\n",
       "    </tr>\n",
       "  </thead>\n",
       "  <tbody>\n",
       "    <tr>\n",
       "      <th>0</th>\n",
       "      <td>matay</td>\n",
       "      <td>28.42</td>\n",
       "      <td>30.78</td>\n",
       "      <td>82.940</td>\n",
       "      <td>21</td>\n",
       "      <td>21</td>\n",
       "      <td>9.36</td>\n",
       "    </tr>\n",
       "    <tr>\n",
       "      <th>1</th>\n",
       "      <td>bambous virieux</td>\n",
       "      <td>-20.34</td>\n",
       "      <td>57.76</td>\n",
       "      <td>75.200</td>\n",
       "      <td>94</td>\n",
       "      <td>75</td>\n",
       "      <td>8.70</td>\n",
       "    </tr>\n",
       "    <tr>\n",
       "      <th>2</th>\n",
       "      <td>olinda</td>\n",
       "      <td>-8.01</td>\n",
       "      <td>-34.86</td>\n",
       "      <td>84.200</td>\n",
       "      <td>83</td>\n",
       "      <td>75</td>\n",
       "      <td>4.10</td>\n",
       "    </tr>\n",
       "    <tr>\n",
       "      <th>3</th>\n",
       "      <td>qaanaaq</td>\n",
       "      <td>77.48</td>\n",
       "      <td>-69.36</td>\n",
       "      <td>15.098</td>\n",
       "      <td>82</td>\n",
       "      <td>74</td>\n",
       "      <td>2.50</td>\n",
       "    </tr>\n",
       "    <tr>\n",
       "      <th>4</th>\n",
       "      <td>vanimo</td>\n",
       "      <td>-2.67</td>\n",
       "      <td>141.30</td>\n",
       "      <td>81.122</td>\n",
       "      <td>74</td>\n",
       "      <td>5</td>\n",
       "      <td>0.66</td>\n",
       "    </tr>\n",
       "    <tr>\n",
       "      <th>5</th>\n",
       "      <td>port elizabeth</td>\n",
       "      <td>-33.92</td>\n",
       "      <td>25.57</td>\n",
       "      <td>66.200</td>\n",
       "      <td>68</td>\n",
       "      <td>4</td>\n",
       "      <td>5.70</td>\n",
       "    </tr>\n",
       "    <tr>\n",
       "      <th>6</th>\n",
       "      <td>castro</td>\n",
       "      <td>-24.79</td>\n",
       "      <td>-50.01</td>\n",
       "      <td>71.366</td>\n",
       "      <td>24</td>\n",
       "      <td>0</td>\n",
       "      <td>1.04</td>\n",
       "    </tr>\n",
       "  </tbody>\n",
       "</table>\n",
       "</div>"
      ],
      "text/plain": [
       "              City  Latitude  Longitude  Temp_F  Humidity  Clouds  Wind\n",
       "0            matay     28.42      30.78  82.940        21      21  9.36\n",
       "1  bambous virieux    -20.34      57.76  75.200        94      75  8.70\n",
       "2           olinda     -8.01     -34.86  84.200        83      75  4.10\n",
       "3          qaanaaq     77.48     -69.36  15.098        82      74  2.50\n",
       "4           vanimo     -2.67     141.30  81.122        74       5  0.66\n",
       "5   port elizabeth    -33.92      25.57  66.200        68       4  5.70\n",
       "6           castro    -24.79     -50.01  71.366        24       0  1.04"
      ]
     },
     "execution_count": 7,
     "metadata": {},
     "output_type": "execute_result"
    }
   ],
   "source": [
    "#Convert Kelvin Temp\n",
    "#Code obtained from https://javascriptbootcamp.tech/blog/158860/kelvin-to-fahrenheit-python\n",
    "df[\"Kelvin Temp\"] = df[\"Kelvin Temp\"]-273.15\n",
    "df[\"Kelvin Temp\"] = df[\"Kelvin Temp\"] * (9/5) + 32\n",
    "df.columns = ['City', 'Latitude', 'Longitude', \"Temp_F\", \"Humidity\", \"Clouds\", \"Wind\"]\n",
    "\n",
    "#df[\"FarenheitTemp\"] = df['CelciusTemp'] * ( 9 / 5 ) + 32\n",
    "#df['FarenheitTemp'] = FarenheightTemp\n",
    "df"
   ]
  },
  {
   "cell_type": "markdown",
   "metadata": {},
   "source": [
    "## Inspect the data and remove the cities where the humidity > 100%.\n",
    "----\n",
    "Skip this step if there are no cities that have humidity > 100%. "
   ]
  },
  {
   "cell_type": "code",
   "execution_count": 8,
   "metadata": {},
   "outputs": [],
   "source": [
    "#Run with all of the cities when you make the charts****Remember....."
   ]
  },
  {
   "cell_type": "code",
   "execution_count": 9,
   "metadata": {},
   "outputs": [
    {
     "data": {
      "text/html": [
       "<div>\n",
       "<style scoped>\n",
       "    .dataframe tbody tr th:only-of-type {\n",
       "        vertical-align: middle;\n",
       "    }\n",
       "\n",
       "    .dataframe tbody tr th {\n",
       "        vertical-align: top;\n",
       "    }\n",
       "\n",
       "    .dataframe thead th {\n",
       "        text-align: right;\n",
       "    }\n",
       "</style>\n",
       "<table border=\"1\" class=\"dataframe\">\n",
       "  <thead>\n",
       "    <tr style=\"text-align: right;\">\n",
       "      <th></th>\n",
       "      <th>City</th>\n",
       "      <th>Latitude</th>\n",
       "      <th>Longitude</th>\n",
       "      <th>Temp_F</th>\n",
       "      <th>Humidity</th>\n",
       "      <th>Clouds</th>\n",
       "      <th>Wind</th>\n",
       "    </tr>\n",
       "  </thead>\n",
       "  <tbody>\n",
       "    <tr>\n",
       "      <th>0</th>\n",
       "      <td>matay</td>\n",
       "      <td>28.42</td>\n",
       "      <td>30.78</td>\n",
       "      <td>82.940</td>\n",
       "      <td>21</td>\n",
       "      <td>21</td>\n",
       "      <td>9.36</td>\n",
       "    </tr>\n",
       "    <tr>\n",
       "      <th>1</th>\n",
       "      <td>bambous virieux</td>\n",
       "      <td>-20.34</td>\n",
       "      <td>57.76</td>\n",
       "      <td>75.200</td>\n",
       "      <td>94</td>\n",
       "      <td>75</td>\n",
       "      <td>8.70</td>\n",
       "    </tr>\n",
       "    <tr>\n",
       "      <th>2</th>\n",
       "      <td>olinda</td>\n",
       "      <td>-8.01</td>\n",
       "      <td>-34.86</td>\n",
       "      <td>84.200</td>\n",
       "      <td>83</td>\n",
       "      <td>75</td>\n",
       "      <td>4.10</td>\n",
       "    </tr>\n",
       "    <tr>\n",
       "      <th>3</th>\n",
       "      <td>qaanaaq</td>\n",
       "      <td>77.48</td>\n",
       "      <td>-69.36</td>\n",
       "      <td>15.098</td>\n",
       "      <td>82</td>\n",
       "      <td>74</td>\n",
       "      <td>2.50</td>\n",
       "    </tr>\n",
       "    <tr>\n",
       "      <th>4</th>\n",
       "      <td>vanimo</td>\n",
       "      <td>-2.67</td>\n",
       "      <td>141.30</td>\n",
       "      <td>81.122</td>\n",
       "      <td>74</td>\n",
       "      <td>5</td>\n",
       "      <td>0.66</td>\n",
       "    </tr>\n",
       "    <tr>\n",
       "      <th>5</th>\n",
       "      <td>port elizabeth</td>\n",
       "      <td>-33.92</td>\n",
       "      <td>25.57</td>\n",
       "      <td>66.200</td>\n",
       "      <td>68</td>\n",
       "      <td>4</td>\n",
       "      <td>5.70</td>\n",
       "    </tr>\n",
       "    <tr>\n",
       "      <th>6</th>\n",
       "      <td>castro</td>\n",
       "      <td>-24.79</td>\n",
       "      <td>-50.01</td>\n",
       "      <td>71.366</td>\n",
       "      <td>24</td>\n",
       "      <td>0</td>\n",
       "      <td>1.04</td>\n",
       "    </tr>\n",
       "  </tbody>\n",
       "</table>\n",
       "</div>"
      ],
      "text/plain": [
       "              City  Latitude  Longitude  Temp_F  Humidity  Clouds  Wind\n",
       "0            matay     28.42      30.78  82.940        21      21  9.36\n",
       "1  bambous virieux    -20.34      57.76  75.200        94      75  8.70\n",
       "2           olinda     -8.01     -34.86  84.200        83      75  4.10\n",
       "3          qaanaaq     77.48     -69.36  15.098        82      74  2.50\n",
       "4           vanimo     -2.67     141.30  81.122        74       5  0.66\n",
       "5   port elizabeth    -33.92      25.57  66.200        68       4  5.70\n",
       "6           castro    -24.79     -50.01  71.366        24       0  1.04"
      ]
     },
     "execution_count": 9,
     "metadata": {},
     "output_type": "execute_result"
    }
   ],
   "source": [
    "#  Get the indices of cities that have humidity over 100%.\n",
    "df[df[\"Humidity\"] > 0.5]\n",
    "df\n"
   ]
  },
  {
   "cell_type": "code",
   "execution_count": 10,
   "metadata": {},
   "outputs": [
    {
     "name": "stdout",
     "output_type": "stream",
     "text": [
      "              City  Latitude  Longitude  Temp_F  Humidity  Clouds  Wind  \\\n",
      "0            matay     28.42      30.78  82.940        21      21  9.36   \n",
      "1  bambous virieux    -20.34      57.76  75.200        94      75  8.70   \n",
      "2           olinda     -8.01     -34.86  84.200        83      75  4.10   \n",
      "3          qaanaaq     77.48     -69.36  15.098        82      74  2.50   \n",
      "4           vanimo     -2.67     141.30  81.122        74       5  0.66   \n",
      "5   port elizabeth    -33.92      25.57  66.200        68       4  5.70   \n",
      "6           castro    -24.79     -50.01  71.366        24       0  1.04   \n",
      "\n",
      "  Hemisphere  \n",
      "0   Northern  \n",
      "1   Northern  \n",
      "2   Northern  \n",
      "3   Northern  \n",
      "4   Northern  \n",
      "5   Northern  \n",
      "6   Northern  \n"
     ]
    }
   ],
   "source": [
    "# Create Northern and Southern Hemisphere DataFrames\n",
    "df['Hemisphere'] = [\"Northern\" if Longitude > 0 else 800 for Longitude in df['Humidity']]\n",
    "df\n",
    "pd.set_option('display.max_rows', df.shape[0]+1)\n",
    "print(df)"
   ]
  },
  {
   "cell_type": "code",
   "execution_count": null,
   "metadata": {},
   "outputs": [],
   "source": []
  },
  {
   "cell_type": "code",
   "execution_count": 11,
   "metadata": {},
   "outputs": [],
   "source": [
    "# Make a new DataFrame equal to the city data to drop all humidity outliers by index.\n",
    "# Passing \"inplace=False\" will make a copy of the city_data DataFrame, which we call \"clean_city_data\".\n"
   ]
  },
  {
   "cell_type": "code",
   "execution_count": 12,
   "metadata": {},
   "outputs": [],
   "source": [
    "# Extract relevant fields from the data frame\n",
    "\n",
    "\n",
    "# Export the City_Data into a csv\n"
   ]
  },
  {
   "cell_type": "markdown",
   "metadata": {},
   "source": [
    "## Plotting the Data\n",
    "* Use proper labeling of the plots using plot titles (including date of analysis) and axes labels.\n",
    "* Save the plotted figures as .pngs."
   ]
  },
  {
   "cell_type": "markdown",
   "metadata": {},
   "source": [
    "## Latitude vs. Temperature Plot"
   ]
  },
  {
   "cell_type": "code",
   "execution_count": 21,
   "metadata": {
    "scrolled": true
   },
   "outputs": [
    {
     "data": {
      "text/plain": [
       "Text(0, 0.5, 'Temperature')"
      ]
     },
     "execution_count": 21,
     "metadata": {},
     "output_type": "execute_result"
    },
    {
     "data": {
      "image/png": "[encoded data removed]",
      "text/plain": [
       "<Figure size 432x288 with 1 Axes>"
      ]
     },
     "metadata": {
      "needs_background": "light"
     },
     "output_type": "display_data"
    }
   ],
   "source": [
    "#Creates a scatter to compare Latitude vs. Temperature.  If you have time, fix this temperature if wrong.\n",
    "plt.scatter(df.Latitude,df.Temp_F)\n",
    "#Creates labels\n",
    "plt.title(\"Latitude vs. Temperature\")\n",
    "plt.xlabel(\"Latitude\")\n",
    "plt.ylabel(\"Temperature\")\n"
   ]
  },
  {
   "cell_type": "markdown",
   "metadata": {},
   "source": [
    "## Latitude vs. Humidity Plot"
   ]
  },
  {
   "cell_type": "code",
   "execution_count": 15,
   "metadata": {},
   "outputs": [
    {
     "data": {
      "text/plain": [
       "<matplotlib.collections.PathCollection at 0x165eaaea248>"
      ]
     },
     "execution_count": 15,
     "metadata": {},
     "output_type": "execute_result"
    },
    {
     "data": {
      "image/png": "[encoded data removed]",
      "text/plain": [
       "<Figure size 432x288 with 1 Axes>"
      ]
     },
     "metadata": {
      "needs_background": "light"
     },
     "output_type": "display_data"
    }
   ],
   "source": [
    "#Creates a scatter to compare latitude vs. humidity\n",
    "plt.scatter(df.Latitude,df.Humidity)\n",
    "#Creates labels\n",
    "plt.title(\"Latitude vs. Humidity\")\n",
    "plt.xlabel(\"Latitude\")\n",
    "plt.ylabel(\"Humidity\")\n"
   ]
  },
  {
   "cell_type": "markdown",
   "metadata": {},
   "source": [
    "## Latitude vs. Cloudiness Plot"
   ]
  },
  {
   "cell_type": "code",
   "execution_count": 22,
   "metadata": {},
   "outputs": [
    {
     "data": {
      "text/plain": [
       "Text(0, 0.5, 'Cloudiness')"
      ]
     },
     "execution_count": 22,
     "metadata": {},
     "output_type": "execute_result"
    },
    {
     "data": {
      "image/png": "[encoded data removed]",
      "text/plain": [
       "<Figure size 432x288 with 1 Axes>"
      ]
     },
     "metadata": {
      "needs_background": "light"
     },
     "output_type": "display_data"
    }
   ],
   "source": [
    "#Creates a scatter to compare latitude vs. cloudiness\n",
    "plt.scatter(df.Latitude,df.Clouds)\n",
    "#Creates labels\n",
    "plt.title(\"Latitude vs. Cloudiness\")\n",
    "plt.xlabel(\"Latitude\")\n",
    "plt.ylabel(\"Cloudiness\")"
   ]
  },
  {
   "cell_type": "markdown",
   "metadata": {},
   "source": [
    "## Latitude vs. Wind Speed Plot"
   ]
  },
  {
   "cell_type": "code",
   "execution_count": 17,
   "metadata": {},
   "outputs": [
    {
     "data": {
      "text/plain": [
       "<matplotlib.collections.PathCollection at 0x165eabcb508>"
      ]
     },
     "execution_count": 17,
     "metadata": {},
     "output_type": "execute_result"
    },
    {
     "data": {
      "image/png": "[encoded data removed]",
      "text/plain": [
       "<Figure size 432x288 with 1 Axes>"
      ]
     },
     "metadata": {
      "needs_background": "light"
     },
     "output_type": "display_data"
    }
   ],
   "source": [
    "#Creates a scatter to compare latitude vs. wind speed\n",
    "plt.scatter(df.Latitude,df.Wind)\n",
    "#Creates labels\n",
    "plt.title(\"Latitude vs. Wind Speed\")\n",
    "plt.xlabel(\"Latitude\")\n",
    "plt.ylabel(\"Wind Speed\")"
   ]
  },
  {
   "cell_type": "markdown",
   "metadata": {},
   "source": [
    "## Linear Regression"
   ]
  },
  {
   "cell_type": "code",
   "execution_count": null,
   "metadata": {},
   "outputs": [],
   "source": [
    "# OPTIONAL: Create a function to create Linear Regression plots"
   ]
  },
  {
   "cell_type": "code",
   "execution_count": null,
   "metadata": {},
   "outputs": [],
   "source": [
    "# Create Northern and Southern Hemisphere DataFrames"
   ]
  },
  {
   "cell_type": "markdown",
   "metadata": {},
   "source": [
    "####  Northern Hemisphere - Max Temp vs. Latitude Linear Regression"
   ]
  },
  {
   "cell_type": "code",
   "execution_count": null,
   "metadata": {},
   "outputs": [],
   "source": []
  },
  {
   "cell_type": "markdown",
   "metadata": {},
   "source": [
    "####  Southern Hemisphere - Max Temp vs. Latitude Linear Regression"
   ]
  },
  {
   "cell_type": "code",
   "execution_count": null,
   "metadata": {},
   "outputs": [],
   "source": []
  },
  {
   "cell_type": "markdown",
   "metadata": {},
   "source": [
    "####  Northern Hemisphere - Humidity (%) vs. Latitude Linear Regression"
   ]
  },
  {
   "cell_type": "code",
   "execution_count": null,
   "metadata": {},
   "outputs": [],
   "source": []
  },
  {
   "cell_type": "markdown",
   "metadata": {},
   "source": [
    "####  Southern Hemisphere - Humidity (%) vs. Latitude Linear Regression"
   ]
  },
  {
   "cell_type": "code",
   "execution_count": null,
   "metadata": {},
   "outputs": [],
   "source": []
  },
  {
   "cell_type": "markdown",
   "metadata": {},
   "source": [
    "####  Northern Hemisphere - Cloudiness (%) vs. Latitude Linear Regression"
   ]
  },
  {
   "cell_type": "code",
   "execution_count": null,
   "metadata": {},
   "outputs": [],
   "source": []
  },
  {
   "cell_type": "markdown",
   "metadata": {},
   "source": [
    "####  Southern Hemisphere - Cloudiness (%) vs. Latitude Linear Regression"
   ]
  },
  {
   "cell_type": "code",
   "execution_count": null,
   "metadata": {},
   "outputs": [],
   "source": []
  },
  {
   "cell_type": "markdown",
   "metadata": {},
   "source": [
    "####  Northern Hemisphere - Wind Speed (mph) vs. Latitude Linear Regression"
   ]
  },
  {
   "cell_type": "code",
   "execution_count": null,
   "metadata": {},
   "outputs": [],
   "source": []
  },
  {
   "cell_type": "markdown",
   "metadata": {},
   "source": [
    "####  Southern Hemisphere - Wind Speed (mph) vs. Latitude Linear Regression"
   ]
  },
  {
   "cell_type": "code",
   "execution_count": null,
   "metadata": {},
   "outputs": [],
   "source": []
  },
  {
   "cell_type": "code",
   "execution_count": null,
   "metadata": {},
   "outputs": [],
   "source": []
  }
 ],
 "metadata": {
  "anaconda-cloud": {},
  "kernel_info": {
   "name": "python3"
  },
  "kernelspec": {
   "display_name": "Python 3",
   "language": "python",
   "name": "python3"
  },
  "language_info": {
   "codemirror_mode": {
    "name": "ipython",
    "version": 3
   },
   "file_extension": ".py",
   "mimetype": "text/x-python",
   "name": "python",
   "nbconvert_exporter": "python",
   "pygments_lexer": "ipython3",
   "version": "3.7.6"
  },
  "latex_envs": {
   "LaTeX_envs_menu_present": true,
   "autoclose": false,
   "autocomplete": true,
   "bibliofile": "biblio.bib",
   "cite_by": "apalike",
   "current_citInitial": 1,
   "eqLabelWithNumbers": true,
   "eqNumInitial": 1,
   "hotkeys": {
    "equation": "Ctrl-E",
    "itemize": "Ctrl-I"
   },
   "labels_anchors": false,
   "latex_user_defs": false,
   "report_style_numbering": false,
   "user_envs_cfg": false
  },
  "nteract": {
   "version": "0.12.3"
  }
 },
 "nbformat": 4,
 "nbformat_minor": 2
}
